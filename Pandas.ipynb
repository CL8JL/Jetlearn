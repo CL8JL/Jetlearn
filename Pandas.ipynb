{
 "cells": [
  {
   "cell_type": "code",
   "execution_count": 1,
   "id": "dd889fd9",
   "metadata": {},
   "outputs": [],
   "source": [
    "import pandas as pd\n",
    "import numpy as np"
   ]
  },
  {
   "cell_type": "code",
   "execution_count": 3,
   "id": "27fe8cb0",
   "metadata": {},
   "outputs": [
    {
     "name": "stdout",
     "output_type": "stream",
     "text": [
      "0    a\n",
      "1    b\n",
      "2    c\n",
      "3    d\n",
      "4    e\n",
      "5    f\n",
      "dtype: object\n"
     ]
    }
   ],
   "source": [
    "List = pd.Series(list(\"abcdef\"))\n",
    "print(List)"
   ]
  },
  {
   "cell_type": "code",
   "execution_count": 6,
   "id": "7f285319",
   "metadata": {},
   "outputs": [
    {
     "name": "stdout",
     "output_type": "stream",
     "text": [
      "0    England\n",
      "1    America\n",
      "2      India\n",
      "3    Vietnam\n",
      "4    Germany\n",
      "dtype: object\n"
     ]
    }
   ],
   "source": [
    "# Creating series from nd array\n",
    "Country = np.array([\"England\", \"America\", \"India\", \"Vietnam\", \"Germany\"])\n",
    "Country_Series = pd.Series(Country)\n",
    "print(Country_Series)"
   ]
  },
  {
   "cell_type": "code",
   "execution_count": 14,
   "id": "dd245815",
   "metadata": {},
   "outputs": [
    {
     "name": "stdout",
     "output_type": "stream",
     "text": [
      "94\n"
     ]
    }
   ],
   "source": [
    "# Creating series from dictionary\n",
    "States = pd.Series([51, 57, 16, 94, 98], index = [\"England\", \"America\", \"India\", \"Vietnam\", \"Germany\"])\n",
    "print(States[\"Vietnam\"])"
   ]
  },
  {
   "cell_type": "code",
   "execution_count": 18,
   "id": "7b6d6b34",
   "metadata": {},
   "outputs": [
    {
     "name": "stdout",
     "output_type": "stream",
     "text": [
      "A    11\n",
      "B    22\n",
      "C    33\n",
      "D    44\n",
      "E    55\n",
      "dtype: int64\n"
     ]
    }
   ],
   "source": [
    "Series_1 = pd.Series([1, 2, 3, 4, 5], index = [\"A\", \"B\", \"C\", \"D\", \"E\"])\n",
    "Series_2 = pd.Series([10, 20, 30, 40, 50], index = [\"A\", \"B\", \"C\", \"D\", \"E\"])\n",
    "\n",
    "print(Series_1 + Series_2)"
   ]
  },
  {
   "cell_type": "code",
   "execution_count": 19,
   "id": "307578cd",
   "metadata": {},
   "outputs": [
    {
     "name": "stdout",
     "output_type": "stream",
     "text": [
      "A    11.0\n",
      "B    22.0\n",
      "C     NaN\n",
      "D     NaN\n",
      "E    55.0\n",
      "F     NaN\n",
      "G     NaN\n",
      "dtype: float64\n"
     ]
    }
   ],
   "source": [
    "Series_3 = pd.Series([1, 2, 3, 4, 5], index = [\"A\", \"B\", \"F\", \"G\", \"E\"])\n",
    "print(Series_2 + Series_3)"
   ]
  },
  {
   "cell_type": "code",
   "execution_count": null,
   "id": "1ce698d8",
   "metadata": {},
   "outputs": [],
   "source": []
  }
 ],
 "metadata": {
  "kernelspec": {
   "display_name": "Python 3 (ipykernel)",
   "language": "python",
   "name": "python3"
  },
  "language_info": {
   "codemirror_mode": {
    "name": "ipython",
    "version": 3
   },
   "file_extension": ".py",
   "mimetype": "text/x-python",
   "name": "python",
   "nbconvert_exporter": "python",
   "pygments_lexer": "ipython3",
   "version": "3.11.3"
  }
 },
 "nbformat": 4,
 "nbformat_minor": 5
}
