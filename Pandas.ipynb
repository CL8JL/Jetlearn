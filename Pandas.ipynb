{
 "cells": [
  {
   "cell_type": "code",
   "execution_count": 12,
   "id": "589f52a0",
   "metadata": {},
   "outputs": [],
   "source": [
    "import pandas as pd\n",
    "import numpy as np"
   ]
  },
  {
   "cell_type": "code",
   "execution_count": 2,
   "id": "373fe245",
   "metadata": {},
   "outputs": [
    {
     "name": "stdout",
     "output_type": "stream",
     "text": [
      "0    a\n",
      "1    b\n",
      "2    c\n",
      "3    d\n",
      "4    e\n",
      "5    f\n",
      "dtype: object\n"
     ]
    }
   ],
   "source": [
    "List = pd.Series(list(\"abcdef\"))\n",
    "print(List)"
   ]
  },
  {
   "cell_type": "code",
   "execution_count": 3,
   "id": "71ced97d",
   "metadata": {},
   "outputs": [
    {
     "name": "stdout",
     "output_type": "stream",
     "text": [
      "0    England\n",
      "1    America\n",
      "2      India\n",
      "3    Vietnam\n",
      "4    Germany\n",
      "dtype: object\n"
     ]
    }
   ],
   "source": [
    "# Creating series from nd array\n",
    "Country = np.array([\"England\", \"America\", \"India\", \"Vietnam\", \"Germany\"])\n",
    "Country_Series = pd.Series(Country)\n",
    "print(Country_Series)"
   ]
  },
  {
   "cell_type": "code",
   "execution_count": 4,
   "id": "bfadcbe2",
   "metadata": {},
   "outputs": [
    {
     "name": "stdout",
     "output_type": "stream",
     "text": [
      "94\n"
     ]
    }
   ],
   "source": [
    "# Creating series from dictionary\n",
    "States = pd.Series([51, 57, 16, 94, 98], index = [\"England\", \"America\", \"India\", \"Vietnam\", \"Germany\"])\n",
    "print(States[\"Vietnam\"])"
   ]
  },
  {
   "cell_type": "code",
   "execution_count": 5,
   "id": "56c2538c",
   "metadata": {},
   "outputs": [
    {
     "name": "stdout",
     "output_type": "stream",
     "text": [
      "A    11\n",
      "B    22\n",
      "C    33\n",
      "D    44\n",
      "E    55\n",
      "dtype: int64\n"
     ]
    }
   ],
   "source": [
    "Series_1 = pd.Series([1, 2, 3, 4, 5], index = [\"A\", \"B\", \"C\", \"D\", \"E\"])\n",
    "Series_2 = pd.Series([10, 20, 30, 40, 50], index = [\"A\", \"B\", \"C\", \"D\", \"E\"])\n",
    "\n",
    "print(Series_1 + Series_2)"
   ]
  },
  {
   "cell_type": "code",
   "execution_count": 11,
   "id": "2c81b8cd",
   "metadata": {},
   "outputs": [
    {
     "name": "stdout",
     "output_type": "stream",
     "text": [
      "A    11.0\n",
      "B    22.0\n",
      "C     NaN\n",
      "D     NaN\n",
      "E    55.0\n",
      "F     NaN\n",
      "G     NaN\n",
      "dtype: float64\n",
      "2\n"
     ]
    }
   ],
   "source": [
    "Series_3 = pd.Series([1, 2, 3, 4, 5], index = [\"A\", \"B\", \"F\", \"G\", \"E\"])\n",
    "print(Series_2 + Series_3)\n",
    "print(Series_3[1])"
   ]
  },
  {
   "cell_type": "code",
   "execution_count": 16,
   "id": "7886cfca",
   "metadata": {},
   "outputs": [
    {
     "name": "stdout",
     "output_type": "stream",
     "text": [
      "  HostCity  Year  ParticipatingCountries\n",
      "0    Paris  2024                      25\n",
      "1   London  2004                      61\n",
      "2   Sydney  2015                      86\n",
      "3    Japan  2020                      92\n",
      "4  Beijing  2013                      51\n"
     ]
    }
   ],
   "source": [
    "# Creating dataframe from lists\n",
    "Olympic_Data_List = {\n",
    "    \"HostCity\": [\"Paris\", \"London\", \"Sydney\", \"Japan\", \"Beijing\"],\n",
    "    \"Year\": [2024, 2004, 2015, 2020, 2013],\n",
    "    \"ParticipatingCountries\": [25, 61, 86, 92, 51]\n",
    "}\n",
    "\n",
    "DF_Olympic_Data = pd.DataFrame(Olympic_Data_List)\n",
    "\n",
    "print(DF_Olympic_Data)"
   ]
  },
  {
   "cell_type": "code",
   "execution_count": 17,
   "id": "b3537751",
   "metadata": {},
   "outputs": [
    {
     "name": "stdout",
     "output_type": "stream",
     "text": [
      "      London  Beijing\n",
      "2004    61.0      NaN\n",
      "2013     NaN     51.0\n"
     ]
    }
   ],
   "source": [
    "# Creating data from dictionary\n",
    "Olympic_Dictionary = {\n",
    "    \"London\": {2004: 61},\n",
    "    \"Beijing\": {2013: 51}\n",
    "}\n",
    "\n",
    "DF_Olympic_Dictionary = pd.DataFrame(Olympic_Dictionary)\n",
    "print(DF_Olympic_Dictionary)"
   ]
  },
  {
   "cell_type": "code",
   "execution_count": 18,
   "id": "3bbe6dea",
   "metadata": {},
   "outputs": [
    {
     "name": "stdout",
     "output_type": "stream",
     "text": [
      "0      Paris\n",
      "1     London\n",
      "2     Sydney\n",
      "3      Japan\n",
      "4    Beijing\n",
      "Name: HostCity, dtype: object\n"
     ]
    }
   ],
   "source": [
    "print(DF_Olympic_Data.HostCity)"
   ]
  },
  {
   "cell_type": "code",
   "execution_count": 21,
   "id": "91f23d86",
   "metadata": {},
   "outputs": [
    {
     "data": {
      "text/plain": [
       "<bound method NDFrame.describe of   HostCity  Year  ParticipatingCountries\n",
       "0    Paris  2024                      25\n",
       "1   London  2004                      61\n",
       "2   Sydney  2015                      86\n",
       "3    Japan  2020                      92\n",
       "4  Beijing  2013                      51>"
      ]
     },
     "execution_count": 21,
     "metadata": {},
     "output_type": "execute_result"
    }
   ],
   "source": [
    "DF_Olympic_Data.describe"
   ]
  },
  {
   "cell_type": "code",
   "execution_count": 23,
   "id": "f97184c0",
   "metadata": {},
   "outputs": [
    {
     "name": "stdout",
     "output_type": "stream",
     "text": [
      "      ParticipatingCountries OlympicCities\n",
      "2024                      25         Paris\n",
      "2004                      61        London\n",
      "2015                      86        Sydney\n",
      "2020                      92         Japan\n",
      "2013                      51       Beijing\n"
     ]
    }
   ],
   "source": [
    "# Creating DataFrame from dictionary of series of participation\n",
    "DF_Olympic_Cities_Participation = pd.Series([25, 61, 86, 92, 51], index = [2024, 2004, 2015, 2020, 2013])\n",
    "\n",
    "DF_Olympic_Cities_Country = pd.Series([\"Paris\", \"London\", \"Sydney\", \"Japan\", \"Beijing\"], index = [2024, 2004, 2015, 2020, 2013])\n",
    "\n",
    "DF_Olympic_Series = pd.DataFrame({\n",
    "    \"ParticipatingCountries\": DF_Olympic_Cities_Participation,\n",
    "    \"OlympicCities\": DF_Olympic_Cities_Country\n",
    "})\n",
    "\n",
    "print(DF_Olympic_Series)"
   ]
  },
  {
   "cell_type": "code",
   "execution_count": 26,
   "id": "62d00550",
   "metadata": {},
   "outputs": [
    {
     "name": "stdout",
     "output_type": "stream",
     "text": [
      "   Year\n",
      "0  2024\n",
      "1  2004\n",
      "2  2015\n",
      "3  2020\n",
      "4  2013\n"
     ]
    }
   ],
   "source": [
    "# Creating DataFrame from nd array\n",
    "NP_Array = np.array([2024, 2004, 2015, 2020, 2013])\n",
    "Dictionary_Array = {\n",
    "    \"Year\": NP_Array\n",
    "}\n",
    "\n",
    "DF_Array = pd.DataFrame(Dictionary_Array)\n",
    "print(DF_Array)"
   ]
  },
  {
   "cell_type": "code",
   "execution_count": null,
   "id": "681e463e",
   "metadata": {},
   "outputs": [],
   "source": []
  }
 ],
 "metadata": {
  "kernelspec": {
   "display_name": "Python 3 (ipykernel)",
   "language": "python",
   "name": "python3"
  },
  "language_info": {
   "codemirror_mode": {
    "name": "ipython",
    "version": 3
   },
   "file_extension": ".py",
   "mimetype": "text/x-python",
   "name": "python",
   "nbconvert_exporter": "python",
   "pygments_lexer": "ipython3",
   "version": "3.11.3"
  }
 },
 "nbformat": 4,
 "nbformat_minor": 5
}
